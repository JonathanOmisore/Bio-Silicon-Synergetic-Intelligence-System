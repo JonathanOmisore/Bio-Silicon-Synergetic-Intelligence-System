{
 "cells": [
  {
   "cell_type": "code",
   "execution_count": 5,
   "id": "6be615fe-093b-4880-938e-d1949920a873",
   "metadata": {},
   "outputs": [
    {
     "ename": "KeyboardInterrupt",
     "evalue": "",
     "output_type": "error",
     "traceback": [
      "\u001b[0;31m---------------------------------------------------------------------------\u001b[0m",
      "\u001b[0;31mKeyboardInterrupt\u001b[0m                         Traceback (most recent call last)",
      "Cell \u001b[0;32mIn[5], line 40\u001b[0m\n\u001b[1;32m     37\u001b[0m socket\u001b[38;5;241m.\u001b[39msend_json({\u001b[38;5;124m\"\u001b[39m\u001b[38;5;124mecog_data\u001b[39m\u001b[38;5;124m\"\u001b[39m: ecog_data})\n\u001b[1;32m     39\u001b[0m \u001b[38;5;66;03m# Sleep for the calculated time interval to achieve the desired sampling frequency\u001b[39;00m\n\u001b[0;32m---> 40\u001b[0m \u001b[43mtime\u001b[49m\u001b[38;5;241;43m.\u001b[39;49m\u001b[43msleep\u001b[49m\u001b[43m(\u001b[49m\u001b[43mtime_interval\u001b[49m\u001b[43m)\u001b[49m\n",
      "\u001b[0;31mKeyboardInterrupt\u001b[0m: "
     ]
    }
   ],
   "source": [
    "import zmq\n",
    "from brainflow.board_shim import BoardIds, BrainFlowInputParams, BoardShim\n",
    "import time\n",
    "import random\n",
    "\n",
    "# Initialize BrainFlowInputParams for the Synthetic Board\n",
    "params = BrainFlowInputParams()\n",
    "params.serial_port = \"/dev/ttyUSB0\"  # Replace with any dummy string, as it's not used by the Synthetic Board\n",
    "\n",
    "# Create a BoardShim instance for the Synthetic Board\n",
    "board = BoardShim(BoardIds.SYNTHETIC_BOARD, params)\n",
    "\n",
    "# Number of simulated ECoG channels\n",
    "num_ecog_channels = 32\n",
    "\n",
    "# Sampling frequency in Hz\n",
    "sampling_frequency = 500\n",
    "\n",
    "# Calculate the time interval for data generation\n",
    "time_interval = 1 / sampling_frequency\n",
    "\n",
    "# Define the voltage range (1 microvolt to 8 microvolts)\n",
    "min_volt = 1e-6  # 1 microvolt\n",
    "max_volt = 8e-5  # 8 microvolts\n",
    "\n",
    "# Initialize ZeroMQ publisher socket\n",
    "context = zmq.Context()\n",
    "socket = context.socket(zmq.PUB)\n",
    "socket.bind(\"tcp://*:5444\")  # Publish on port 5444\n",
    "\n",
    "# Define a loop to continuously generate synthetic ECoG data and publish it\n",
    "while True:\n",
    "    # Simulate ECoG data for each channel within the voltage range\n",
    "    ecog_data = [random.uniform(min_volt, max_volt) for _ in range(num_ecog_channels)]\n",
    "\n",
    "    # Publish the simulated ECoG data to the ZeroMQ socket\n",
    "    socket.send_json({\"ecog_data\": ecog_data})\n",
    "\n",
    "    # Sleep for the calculated time interval to achieve the desired sampling frequency\n",
    "    time.sleep(time_interval)\n"
   ]
  },
  {
   "cell_type": "code",
   "execution_count": null,
   "id": "27fde583-b213-40f9-bb19-ee5ef0b1955a",
   "metadata": {},
   "outputs": [],
   "source": []
  }
 ],
 "metadata": {
  "kernelspec": {
   "display_name": "Python 3 (ipykernel)",
   "language": "python",
   "name": "python3"
  },
  "language_info": {
   "codemirror_mode": {
    "name": "ipython",
    "version": 3
   },
   "file_extension": ".py",
   "mimetype": "text/x-python",
   "name": "python",
   "nbconvert_exporter": "python",
   "pygments_lexer": "ipython3",
   "version": "3.10.12"
  }
 },
 "nbformat": 4,
 "nbformat_minor": 5
}
