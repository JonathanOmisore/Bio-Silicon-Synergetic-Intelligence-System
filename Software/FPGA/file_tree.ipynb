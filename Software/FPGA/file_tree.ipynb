{
 "cells": [
  {
   "cell_type": "code",
   "execution_count": 2,
   "id": "5e1d376f-09c3-4565-a02c-958f5d4e8a38",
   "metadata": {},
   "outputs": [
    {
     "name": "stdout",
     "output_type": "stream",
     "text": [
      "Directory Tree for: /home/vincent/MySSD/JupyterProjects/AAA_projects/UnlimitedResearchCooperative/Synthetic_Intelligence_Labs/Human-Brain-Rat/Software/FPGA\n",
      "|-- ax301.jic\n",
      "+-- .ipynb_checkpoints\n",
      "    |-- file_tree-checkpoint.ipynb\n",
      "+-- AX301_BOOT_PRJ\n",
      "    +-- i2c_master\n",
      "        |-- i2c_config.v\n",
      "        |-- i2c_master_bit_ctrl.v\n",
      "        |-- i2c_master_top.v\n",
      "        |-- i2c_master_defines.v\n",
      "        |-- lut_ov5640_rgb565_1024_768.v\n",
      "        |-- i2c_master_byte_ctrl.v\n",
      "        |-- i2c_com.v\n",
      "        |-- timescale.v\n",
      "    |-- i2s_tx.v\n",
      "    +-- simulation\n",
      "    |-- top.qpf\n",
      "    |-- total.tcl\n",
      "    |-- top.qsf\n",
      "    +-- constraints\n",
      "    |-- top.v.bak\n",
      "    |-- SDC1.sdc\n",
      "    +-- .ipynb_checkpoints\n",
      "        |-- top-checkpoint.v\n",
      "        |-- top-checkpoint.qsf\n",
      "        |-- top-checkpoint.qpf\n",
      "        |-- top.restore-checkpoint.rpt\n",
      "        |-- ax_debounce-checkpoint.v\n",
      "        |-- ax301_ax4010-checkpoint.tcl\n",
      "        |-- notes-checkpoint\n",
      "        |-- SDC1-checkpoint.sdc\n",
      "        |-- i2s_tx-checkpoint.v\n",
      "        |-- SDC1.sdc-checkpoint.bak\n",
      "        |-- top.archive-checkpoint.rpt\n",
      "        |-- top.v-checkpoint.bak\n",
      "        |-- assignment_defaults-checkpoint.qdf\n",
      "    |-- SDC1.sdc.bak\n",
      "    |-- top.restore.rpt\n",
      "    +-- output\n",
      "    |-- ax301_ax4010.tcl\n",
      "    |-- top.v\n",
      "    |-- assignment_defaults.qdf\n",
      "    |-- notes\n",
      "    |-- top.qws\n",
      "    |-- ax_debounce.v\n",
      "    +-- scripts\n",
      "    |-- top.archive.rpt\n",
      "    +-- source\n",
      "        +-- .ipynb_checkpoints\n",
      "            |-- uart_rx-checkpoint.v\n",
      "        |-- uart_tx.v\n",
      "        |-- uart_test.v\n",
      "        |-- uart_rx.v\n",
      "    +-- docs\n",
      "        |-- PIAX301-V2 SCH.pdf\n",
      "|-- file_tree.ipynb\n"
     ]
    }
   ],
   "source": [
    "import os\n",
    "\n",
    "def print_directory_tree(path, indent=\"\"):\n",
    "    with os.scandir(path) as entries:\n",
    "        for entry in entries:\n",
    "            if entry.is_dir():\n",
    "                print(f\"{indent}+-- {entry.name}\")\n",
    "                print_directory_tree(entry.path, indent + \"    \")\n",
    "            else:\n",
    "                print(f\"{indent}|-- {entry.name}\")\n",
    "\n",
    "if __name__ == \"__main__\":\n",
    "    current_dir = os.getcwd()\n",
    "    print(f\"Directory Tree for: {current_dir}\")\n",
    "    print_directory_tree(current_dir)\n"
   ]
  },
  {
   "cell_type": "code",
   "execution_count": null,
   "id": "327c009a-b5eb-4a09-b9b7-d09b1a9a2db6",
   "metadata": {},
   "outputs": [],
   "source": []
  }
 ],
 "metadata": {
  "kernelspec": {
   "display_name": "Python 3 (ipykernel)",
   "language": "python",
   "name": "python3"
  },
  "language_info": {
   "codemirror_mode": {
    "name": "ipython",
    "version": 3
   },
   "file_extension": ".py",
   "mimetype": "text/x-python",
   "name": "python",
   "nbconvert_exporter": "python",
   "pygments_lexer": "ipython3",
   "version": "3.10.12"
  }
 },
 "nbformat": 4,
 "nbformat_minor": 5
}
