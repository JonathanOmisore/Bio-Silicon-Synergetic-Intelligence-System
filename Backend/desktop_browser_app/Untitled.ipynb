{
 "cells": [
  {
   "cell_type": "code",
   "execution_count": 1,
   "id": "8c0129de-f68e-4e5f-96e4-cea76b81c17f",
   "metadata": {},
   "outputs": [
    {
     "ename": "ImportError",
     "evalue": "cannot import name 'process_data' from 'data_processing' (/home/vincent/AAA_projects/UnlimitedResearchCooperative/Synthetic_Intelligence_Labs/Human-Brain-Rat/Backend/desktop_browser_app/data_processing/__init__.py)",
     "output_type": "error",
     "traceback": [
      "\u001b[0;31m---------------------------------------------------------------------------\u001b[0m",
      "\u001b[0;31mImportError\u001b[0m                               Traceback (most recent call last)",
      "Cell \u001b[0;32mIn[1], line 1\u001b[0m\n\u001b[0;32m----> 1\u001b[0m \u001b[38;5;28;01mfrom\u001b[39;00m \u001b[38;5;21;01mdata_processing\u001b[39;00m \u001b[38;5;28;01mimport\u001b[39;00m process_data\n",
      "\u001b[0;31mImportError\u001b[0m: cannot import name 'process_data' from 'data_processing' (/home/vincent/AAA_projects/UnlimitedResearchCooperative/Synthetic_Intelligence_Labs/Human-Brain-Rat/Backend/desktop_browser_app/data_processing/__init__.py)"
     ]
    }
   ],
   "source": [
    "from data_processing import process_data\n"
   ]
  },
  {
   "cell_type": "code",
   "execution_count": null,
   "id": "6736e1ef-aa7c-4e5f-b9d8-801fc629a10f",
   "metadata": {},
   "outputs": [],
   "source": []
  }
 ],
 "metadata": {
  "kernelspec": {
   "display_name": "Python 3 (ipykernel)",
   "language": "python",
   "name": "python3"
  },
  "language_info": {
   "codemirror_mode": {
    "name": "ipython",
    "version": 3
   },
   "file_extension": ".py",
   "mimetype": "text/x-python",
   "name": "python",
   "nbconvert_exporter": "python",
   "pygments_lexer": "ipython3",
   "version": "3.10.12"
  }
 },
 "nbformat": 4,
 "nbformat_minor": 5
}
