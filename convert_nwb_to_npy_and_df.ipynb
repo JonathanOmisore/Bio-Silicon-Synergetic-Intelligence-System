{
 "cells": [
  {
   "cell_type": "markdown",
   "id": "55e69c20-7b7e-449d-8740-07ea2079949c",
   "metadata": {},
   "source": [
    "# Read contents of .nwb file"
   ]
  },
  {
   "cell_type": "code",
   "execution_count": null,
   "id": "fbe7cf35-bc99-421d-bb1e-bc0938310a9a",
   "metadata": {},
   "outputs": [],
   "source": [
    "from pynwb import NWBHDF5IO\n",
    "\n",
    "# Replace with the path to your .nwb file\n",
    "nwb_file_path = 'data1.nwb'\n",
    "\n",
    "\n",
    "# Open the .nwb file using PyNWB\n",
    "with NWBHDF5IO(nwb_file_path, 'r') as io:\n",
    "    nwbfile = io.read()\n",
    "\n",
    "    # Access the acquisition group\n",
    "    acquisition = nwbfile.acquisition\n",
    "\n",
    "    # Print the names of all groups within the acquisition group\n",
    "    print(\"Acquisition Groups:\")\n",
    "    for name, timeseries in acquisition.items():\n",
    "        print(f\" - {name}: {timeseries}\")\n",
    "    \n",
    "    # Print all groups in stimulus (if any)\n",
    "    if hasattr(nwbfile, 'stimulus'):\n",
    "        print(\"\\nStimulus Groups:\")\n",
    "        for name, sgroup in nwbfile.stimulus.items():\n",
    "            print(f\" - {name}: {sgroup}\")"
   ]
  },
  {
   "cell_type": "markdown",
   "id": "ded5da77-78b1-423a-b9c0-b9fa3f1ea4de",
   "metadata": {},
   "source": [
    "# Extract nwb file contents"
   ]
  },
  {
   "cell_type": "code",
   "execution_count": null,
   "id": "6a92f750-5b15-4deb-a902-583900418978",
   "metadata": {},
   "outputs": [],
   "source": [
    "import numpy as np\n",
    "from pynwb import NWBHDF5IO\n",
    "\n",
    "# Function to extract data from a TimeSeries object\n",
    "def extract_data(time_series):\n",
    "    return {\n",
    "        'data': np.array(time_series.data[:]),\n",
    "        'timestamps': np.array(time_series.timestamps[:]) if time_series.timestamps else None,\n",
    "        'unit': time_series.unit,\n",
    "        'comments': time_series.comments\n",
    "    }\n",
    "\n",
    "# Path to your NWB file\n",
    "nwb_file_path = 'data1.nwb'\n",
    "\n",
    "# Open the .nwb file using PyNWB\n",
    "with NWBHDF5IO(nwb_file_path, 'r') as io:\n",
    "    nwbfile = io.read()\n",
    "\n",
    "    # Extract acquisition groups\n",
    "    acquisition_data = {}\n",
    "    for name, timeseries in nwbfile.acquisition.items():\n",
    "        acquisition_data[name] = extract_data(timeseries)\n",
    "\n",
    "    # Extract stimulus groups if present\n",
    "    stimulus_data = {}\n",
    "    if hasattr(nwbfile, 'stimulus'):\n",
    "        for name, timeseries in nwbfile.stimulus.items():\n",
    "            stimulus_data[name] = extract_data(timeseries)"
   ]
  },
  {
   "cell_type": "markdown",
   "id": "d5b99136-99ed-47a4-8097-c7d6c9ac6855",
   "metadata": {},
   "source": [
    "# Save extracted contents of nwb file as numpy"
   ]
  },
  {
   "cell_type": "code",
   "execution_count": null,
   "id": "8084e8ff-c96c-4981-adc3-05a7abcbfbf1",
   "metadata": {},
   "outputs": [],
   "source": [
    "for name, data in acquisition_data.items():\n",
    "    np.save(f'{name}_acquisition.npy', data['data'])\n",
    "\n",
    "for name, data in stimulus_data.items():\n",
    "    np.save(f'{name}_stimulus.npy', data['data'])"
   ]
  },
  {
   "cell_type": "markdown",
   "id": "114a8f14-bfe7-49fa-a8f5-2b3f011e6d71",
   "metadata": {},
   "source": [
    "# Save extracted contents of nwb file as dataframe csv"
   ]
  },
  {
   "cell_type": "code",
   "execution_count": null,
   "id": "d6d160ab-6151-4e08-9fc5-60479f167514",
   "metadata": {},
   "outputs": [],
   "source": [
    "import pandas as pd\n",
    "\n",
    "for name, data in acquisition_data.items():\n",
    "    # Check if data is two-dimensional\n",
    "    if data['data'].ndim == 2:\n",
    "        # Create column names for each dimension\n",
    "        column_names = [f'{name}_dim_{i}' for i in range(data['data'].shape[1])]\n",
    "    else:\n",
    "        # For one-dimensional data, use a single column\n",
    "        column_names = [f'{name}_value']\n",
    "\n",
    "    df = pd.DataFrame(data['data'], columns=column_names)\n",
    "    if data['timestamps'] is not None:\n",
    "        df['timestamps'] = data['timestamps']\n",
    "    df.to_csv(f'{name}_acquisition.csv', index=False)\n",
    "\n",
    "for name, data in stimulus_data.items():\n",
    "    # Check if data is two-dimensional\n",
    "    if data['data'].ndim == 2:\n",
    "        # Create column names for each dimension\n",
    "        column_names = [f'{name}_dim_{i}' for i in range(data['data'].shape[1])]\n",
    "    else:\n",
    "        # For one-dimensional data, use a single column\n",
    "        column_names = [f'{name}_value']\n",
    "\n",
    "    df = pd.DataFrame(data['data'], columns=column_names)\n",
    "    if data['timestamps'] is not None:\n",
    "        df['timestamps'] = data['timestamps']\n",
    "    df.to_csv(f'{name}_stimulus.csv', index=False)"
   ]
  }
 ],
 "metadata": {
  "kernelspec": {
   "display_name": "Python 3 (ipykernel)",
   "language": "python",
   "name": "python3"
  },
  "language_info": {
   "codemirror_mode": {
    "name": "ipython",
    "version": 3
   },
   "file_extension": ".py",
   "mimetype": "text/x-python",
   "name": "python",
   "nbconvert_exporter": "python",
   "pygments_lexer": "ipython3",
   "version": "3.10.12"
  }
 },
 "nbformat": 4,
 "nbformat_minor": 5
}
